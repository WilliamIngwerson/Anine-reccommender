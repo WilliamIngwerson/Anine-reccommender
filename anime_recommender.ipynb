{
 "cells": [
  {
   "cell_type": "code",
   "execution_count": 23,
   "id": "c20539c7",
   "metadata": {},
   "outputs": [],
   "source": [
    "# Import libraries\n",
    "import pandas as pd\n",
    "from sklearn.feature_extraction.text import TfidfVectorizer\n",
    "from sklearn.metrics.pairwise import cosine_similarity\n",
    "from jikanpy import Jikan\n",
    "\n",
    "# Initialize Jikan client\n",
    "jikan = Jikan()\n"
   ]
  },
  {
   "cell_type": "code",
   "execution_count": 24,
   "id": "84a9a555",
   "metadata": {},
   "outputs": [],
   "source": [
    "# Load your CSV dataset\n",
    "anime_df = pd.read_csv(\"anime.csv\")\n",
    "\n",
    "# Basic preprocessing\n",
    "anime_df['genre'] = anime_df['genre'].fillna('')\n",
    "anime_df['genre_clean'] = anime_df['genre'].str.replace(',', ' ').str.lower()\n",
    "\n",
    "# (Optional) Clean up any HTML entities if needed\n",
    "import html\n",
    "anime_df['genre_clean'] = anime_df['genre_clean'].apply(html.unescape)\n",
    "\n",
    "# Create a title to index lookup\n",
    "title_to_index = pd.Series(anime_df.index, index=anime_df['name']).drop_duplicates()\n",
    "\n"
   ]
  },
  {
   "cell_type": "code",
   "execution_count": 25,
   "id": "9d654a67",
   "metadata": {},
   "outputs": [],
   "source": [
    "# Vectorize the genres using TF-IDF\n",
    "tfidf = TfidfVectorizer(stop_words='english')\n",
    "tfidf_matrix = tfidf.fit_transform(anime_df['genre_clean'])\n",
    "\n",
    "# Calculate cosine similarity matrix\n",
    "cosine_sim = cosine_similarity(tfidf_matrix, tfidf_matrix)\n"
   ]
  },
  {
   "cell_type": "code",
   "execution_count": 26,
   "id": "1460f730",
   "metadata": {},
   "outputs": [],
   "source": [
    "def recommend_local(anime_title, top_n=10):\n",
    "    idx = title_to_index.get(anime_title)\n",
    "    if idx is None:\n",
    "        return None  # Anime not found locally\n",
    "    \n",
    "    sim_scores = list(enumerate(cosine_sim[idx]))\n",
    "    sim_scores = sorted(sim_scores, key=lambda x: x[1], reverse=True)[1:top_n+1]\n",
    "    \n",
    "    indices = [i[0] for i in sim_scores]\n",
    "    similarities = [i[1] for i in sim_scores]\n",
    "    \n",
    "    recs = anime_df.iloc[indices][['name', 'genre', 'rating', 'members']].copy()\n",
    "    recs['similarity'] = similarities\n",
    "    \n",
    "    return recs\n",
    "\n"
   ]
  },
  {
   "cell_type": "code",
   "execution_count": 27,
   "id": "f9995164",
   "metadata": {},
   "outputs": [],
   "source": [
    "def normalize_column(series):\n",
    "    return (series - series.min()) / (series.max() - series.min())\n"
   ]
  },
  {
   "cell_type": "code",
   "execution_count": 28,
   "id": "615881cb",
   "metadata": {},
   "outputs": [],
   "source": [
    "from difflib import SequenceMatcher\n",
    "\n",
    "def is_too_similar(title1, title2, threshold=0.8):\n",
    "    title1_lower = title1.lower()\n",
    "    title2_lower = title2.lower()\n",
    "    \n",
    "    if title1_lower in title2_lower or title2_lower in title1_lower:\n",
    "        print(f\"Substring match: '{title1}' vs '{title2}' → True\")\n",
    "        return True\n",
    "    \n",
    "    ratio = SequenceMatcher(None, title1_lower, title2_lower).ratio()\n",
    "    print(f\"Fuzzy match: '{title1}' vs '{title2}' → {ratio:.2f}\")\n",
    "    \n",
    "    return ratio >= threshold\n",
    "\n"
   ]
  },
  {
   "cell_type": "code",
   "execution_count": 29,
   "id": "83768946",
   "metadata": {},
   "outputs": [
    {
     "name": "stdout",
     "output_type": "stream",
     "text": [
      "Fullmetal Alchemist - Score: 8.11, Members: 1523824, Genres: ['Action', 'Adventure', 'Award Winning', 'Drama', 'Fantasy']\n",
      "Fullmetal Alchemist: Brotherhood - Score: 9.1, Members: 3542513, Genres: ['Action', 'Adventure', 'Drama', 'Fantasy']\n",
      "Fullmetal Alchemist: The Conqueror of Shamballa - Score: 7.5, Members: 340804, Genres: ['Action', 'Adventure', 'Award Winning', 'Drama', 'Fantasy']\n",
      "Fullmetal Alchemist: The Sacred Star of Milos - Score: 7.26, Members: 193498, Genres: ['Action', 'Adventure', 'Drama', 'Fantasy']\n",
      "Fullmetal Alchemist: Brotherhood Specials - Score: 8, Members: 165461, Genres: ['Action', 'Adventure', 'Drama', 'Fantasy']\n"
     ]
    }
   ],
   "source": [
    "import requests\n",
    "\n",
    "def search_anime_v4(title, limit=5):\n",
    "    url = \"https://api.jikan.moe/v4/anime\"\n",
    "    params = {\n",
    "        \"q\": title,\n",
    "        \"limit\": limit,\n",
    "        \"fields\": \"title,score,members,genres,synopsis\"\n",
    "    }\n",
    "    response = requests.get(url, params=params)\n",
    "    \n",
    "    if response.status_code != 200:\n",
    "        print(f\"API error: {response.status_code} - {response.text}\")\n",
    "        return None\n",
    "    \n",
    "    data = response.json()\n",
    "    return data.get('data', [])\n",
    "\n",
    "results = search_anime_v4(\"Fullmetal Alchemist\")\n",
    "for anime in results:\n",
    "    title = anime.get('title')\n",
    "    score = anime.get('score')\n",
    "    members = anime.get('members')\n",
    "    genres = [g['name'] for g in anime.get('genres', [])]\n",
    "    synopsis = anime.get('synopsis')\n",
    "    print(f\"{title} - Score: {score}, Members: {members}, Genres: {genres}\")\n"
   ]
  },
  {
   "cell_type": "code",
   "execution_count": 30,
   "id": "9efaf85d",
   "metadata": {},
   "outputs": [],
   "source": [
    "import time\n",
    "def enrich_recommendations(local_recs_df):\n",
    "    enriched = []\n",
    "    for title in local_recs_df['name']:\n",
    "        results = search_anime_v4(title)\n",
    "        if results:\n",
    "            anime = results[0]\n",
    "            enriched.append({\n",
    "                'title': anime.get('title'),\n",
    "                'score': anime.get('score'),\n",
    "                'members': anime.get('members'),\n",
    "                'genres': [g['name'] for g in anime.get('genres', [])],\n",
    "                'synopsis': anime.get('synopsis')\n",
    "            })\n",
    "        else:\n",
    "            enriched.append({'title': title, 'score': None, 'members': None, 'genres': None, 'synopsis': None})\n",
    "    enriched_df = pd.DataFrame(enriched)\n",
    "    time.sleep(3.0)  # <--- pause here after each API call\n",
    "\n",
    "    # Merge similarity from local recs\n",
    "    enriched_df = enriched_df.merge(local_recs_df[['name', 'similarity']], left_on='title', right_on='name', how='left')\n",
    "\n",
    "    # Normalize columns\n",
    "    enriched_df['members_norm'] = normalize_column(enriched_df['members'].fillna(0))\n",
    "    enriched_df['score_norm'] = normalize_column(enriched_df['score'].fillna(0))\n",
    "    enriched_df['similarity_norm'] = normalize_column(enriched_df['similarity'].fillna(0))\n",
    "    \n",
    "    return enriched_df\n",
    "\n"
   ]
  },
  {
   "cell_type": "code",
   "execution_count": null,
   "id": "7cbca0b8",
   "metadata": {},
   "outputs": [],
   "source": [
    "def weighted_recommendations(enriched_df, original_title, weight_similarity=0.4, weight_members=0.3, weight_rating=0.3, top_n=10):\n",
    "    # Normalize columns to 0-1 scale (fill NaNs with 0)\n",
    "    enriched_df['similarity_norm'] = normalize_column(enriched_df['similarity'].fillna(0))\n",
    "    enriched_df['members_norm'] = normalize_column(enriched_df['members'].fillna(0))\n",
    "    enriched_df['score_norm'] = normalize_column(enriched_df['score'].fillna(0))\n",
    "\n",
    "    # Calculate initial weighted combined score\n",
    "    enriched_df['combined_score'] = (\n",
    "        enriched_df['similarity_norm'] * weight_similarity +\n",
    "        enriched_df['members_norm'] * weight_members +\n",
    "        enriched_df['score_norm'] * weight_rating\n",
    "    )\n",
    "\n",
    "    # Apply penalty for titles too similar to original_title\n",
    "    enriched_df['similar_title_penalty'] = enriched_df['title'].apply(\n",
    "        lambda t: 0.2 if is_too_similar(t, original_title) else 1.0\n",
    "    )\n",
    "    \n",
    "    # Multiply combined score by penalty\n",
    "    enriched_df['combined_score'] *= enriched_df['similar_title_penalty']\n",
    "\n",
    "    # Sort by combined score descending, pick top N\n",
    "    final_recs = enriched_df.sort_values('combined_score', ascending=False).head(top_n)\n",
    "    return final_recs[['title', 'genres', 'score', 'members', 'combined_score']]\n"
   ]
  },
  {
   "cell_type": "code",
   "execution_count": 32,
   "id": "75909208",
   "metadata": {},
   "outputs": [],
   "source": [
    "def hybrid_recommend(anime_title, top_n=10, weight_similarity=0.4, weight_members=0.3, weight_rating=0.3):\n",
    "    local_recs = recommend_local(anime_title, top_n)\n",
    "    if local_recs is None:\n",
    "        return f\"'{anime_title}' not found in local dataset.\"\n",
    "\n",
    "    enriched_df = enrich_recommendations(local_recs)\n",
    "    final_recs = weighted_recommendations(\n",
    "        enriched_df,\n",
    "        original_title=anime_title,\n",
    "        weight_similarity=weight_similarity,\n",
    "        weight_members=weight_members,\n",
    "        weight_rating=weight_rating,\n",
    "        top_n=top_n\n",
    "    )\n",
    "    return final_recs\n"
   ]
  },
  {
   "cell_type": "code",
   "execution_count": 33,
   "id": "e24aaea0",
   "metadata": {},
   "outputs": [
    {
     "name": "stdout",
     "output_type": "stream",
     "text": [
      "Substring match: 'One Piece: Episode of Merry - Mou Hitori no Nakama no Monogatari' vs 'One Piece' → True\n",
      "Substring match: 'One Piece: Episode of Nami - Koukaishi no Namida to Nakama no Kizuna' vs 'One Piece' → True\n",
      "Substring match: 'One Piece: Episode of Sabo - 3 Kyoudai no Kizuna Kiseki no Saikai to Uketsugareru Ishi' vs 'One Piece' → True\n",
      "                                               title  \\\n",
      "0  One Piece: Episode of Merry - Mou Hitori no Na...   \n",
      "1  One Piece: Episode of Nami - Koukaishi no Nami...   \n",
      "2  One Piece: Episode of Sabo - 3 Kyoudai no Kizu...   \n",
      "\n",
      "                         genres  score  members  combined_score  \n",
      "0  [Action, Adventure, Fantasy]   8.19    79039             NaN  \n",
      "1  [Action, Adventure, Fantasy]   8.11    74900             NaN  \n",
      "2  [Action, Adventure, Fantasy]   7.70    43536             NaN  \n"
     ]
    }
   ],
   "source": [
    "result = hybrid_recommend(\"One Piece\", top_n=3)\n",
    "print(result)"
   ]
  }
 ],
 "metadata": {
  "kernelspec": {
   "display_name": "Python 3",
   "language": "python",
   "name": "python3"
  },
  "language_info": {
   "codemirror_mode": {
    "name": "ipython",
    "version": 3
   },
   "file_extension": ".py",
   "mimetype": "text/x-python",
   "name": "python",
   "nbconvert_exporter": "python",
   "pygments_lexer": "ipython3",
   "version": "3.13.5"
  }
 },
 "nbformat": 4,
 "nbformat_minor": 5
}
